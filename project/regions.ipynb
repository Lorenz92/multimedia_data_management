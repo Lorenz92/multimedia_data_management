{
 "cells": [
  {
   "cell_type": "code",
   "execution_count": 1,
   "metadata": {},
   "outputs": [],
   "source": [
    "import os\n",
    "import cv2\n",
    "import numpy as np\n",
    "from sklearn import cluster\n",
    "import matplotlib.pyplot as plt"
   ]
  },
  {
   "cell_type": "code",
   "execution_count": 2,
   "metadata": {},
   "outputs": [],
   "source": [
    "path='./pictures/'"
   ]
  },
  {
   "cell_type": "code",
   "execution_count": 3,
   "metadata": {},
   "outputs": [
    {
     "data": {
      "text/plain": [
       "1"
      ]
     },
     "execution_count": 3,
     "metadata": {},
     "output_type": "execute_result"
    }
   ],
   "source": [
    "images = []\n",
    "\n",
    "for img in os.listdir(path):\n",
    "    if img.startswith('zzz'):\n",
    "        image = cv2.imread(path+img)\n",
    "        cv2.imshow('crop',image)\n",
    "        # image = cv2.cvtColor(image, cv2.COLOR_BGR2RGB)\n",
    "        cv2.waitKey(0)\n",
    "        images.append(image)\n",
    "\n",
    "cv2.destroyAllWindows()\n",
    "len(images)"
   ]
  },
  {
   "cell_type": "code",
   "execution_count": 4,
   "metadata": {},
   "outputs": [
    {
     "name": "stdout",
     "output_type": "stream",
     "text": [
      "(512000, 3)\n"
     ]
    }
   ],
   "source": [
    "\n",
    "def segment(image, k):\n",
    "    # reshape the image to a 2D array of pixels and 3 color values (RGB)\n",
    "    pixel_values = image.reshape((-1, 3))\n",
    "    # convert to float\n",
    "    pixel_values = np.float32(pixel_values)\n",
    "\n",
    "    print(pixel_values.shape)\n",
    "\n",
    "    # define stopping criteria\n",
    "    criteria = (cv2.TERM_CRITERIA_EPS + cv2.TERM_CRITERIA_MAX_ITER, 100, 0.2)\n",
    "\n",
    "    # number of clusters (K)\n",
    "    _, labels, (centers) = cv2.kmeans(pixel_values, k, None, criteria, 10, cv2.KMEANS_RANDOM_CENTERS)\n",
    "\n",
    "    # convert back to 8 bit values\n",
    "    centers = np.uint8(centers)\n",
    "\n",
    "    # flatten the labels array\n",
    "    labels = labels.flatten()\n",
    "\n",
    "    # convert all pixels to the color of the centroids\n",
    "    segmented_image = centers[labels.flatten()]\n",
    "\n",
    "    # reshape back to the original image dimension\n",
    "    segmented_image = segmented_image.reshape(image.shape)\n",
    "    # show the image\n",
    "    cv2.imshow('segm', segmented_image)\n",
    "    cv2.waitKey(0)\n",
    "    cv2.destroyAllWindows()\n",
    "\n",
    "\n",
    "    return labels\n",
    "\n",
    "k=5\n",
    "labels = segment(images[0], k)"
   ]
  },
  {
   "cell_type": "code",
   "execution_count": 5,
   "metadata": {},
   "outputs": [],
   "source": [
    "def extract_region(image, regions, labels):\n",
    "    for i in range(regions):\n",
    "\n",
    "        # disable only the cluster number 2 (turn the pixel into black)\n",
    "        masked_image = np.copy(image)\n",
    "\n",
    "        # convert to the shape of a vector of pixel values\n",
    "        masked_image = masked_image.reshape((-1, 3))\n",
    "    \n",
    "        # color (i.e cluster) to disable\n",
    "        clust = i\n",
    "        masked_image[labels != clust] = [255,255,255]\n",
    "\n",
    "        # convert back to original shape\n",
    "        masked_image = masked_image.reshape(image.shape)\n",
    "\n",
    "        # make background transparent by placing the mask into the alpha channel\n",
    "        mask = labels == clust\n",
    "        mask = mask.reshape(masked_image.shape[:2])*255\n",
    "        new_img = cv2.cvtColor(masked_image, cv2.COLOR_BGR2BGRA)\n",
    "        new_img[:, :, 3] = mask\n",
    "        cv2.imshow('crop',new_img)\n",
    "        cv2.waitKey(0)\n",
    "        cv2.destroyAllWindows()\n",
    "        cv2.imwrite(f'{path}y_shirt_skirt_outfir_{i}.png', new_img)\n",
    "\n",
    "    return\n",
    "\n",
    "extract_region(images[0], k, labels)\n"
   ]
  }
 ],
 "metadata": {
  "interpreter": {
   "hash": "5b0b338c22055c4f0730dd502858cd6e879fb176483496628d5e2d269d727b70"
  },
  "kernelspec": {
   "display_name": "Python 3.10.4 64-bit",
   "language": "python",
   "name": "python3"
  },
  "language_info": {
   "codemirror_mode": {
    "name": "ipython",
    "version": 3
   },
   "file_extension": ".py",
   "mimetype": "text/x-python",
   "name": "python",
   "nbconvert_exporter": "python",
   "pygments_lexer": "ipython3",
   "version": "3.10.4"
  },
  "orig_nbformat": 4
 },
 "nbformat": 4,
 "nbformat_minor": 2
}
