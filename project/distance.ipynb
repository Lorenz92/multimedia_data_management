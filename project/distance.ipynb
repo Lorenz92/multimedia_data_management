{
 "cells": [
  {
   "cell_type": "code",
   "execution_count": 1,
   "metadata": {},
   "outputs": [],
   "source": [
    "import os\n",
    "import cv2\n",
    "import numpy as np\n",
    "from sklearn import cluster\n",
    "import matplotlib.pyplot as plt"
   ]
  },
  {
   "cell_type": "code",
   "execution_count": 2,
   "metadata": {},
   "outputs": [],
   "source": [
    "path='./pictures/distance/'"
   ]
  },
  {
   "cell_type": "code",
   "execution_count": 3,
   "metadata": {},
   "outputs": [
    {
     "data": {
      "text/plain": [
       "9"
      ]
     },
     "execution_count": 3,
     "metadata": {},
     "output_type": "execute_result"
    }
   ],
   "source": [
    "images = []\n",
    "\n",
    "for img in os.listdir(path):\n",
    "    if os.path.isdir(path+img):\n",
    "        # skip directories\n",
    "        continue\n",
    "    image = cv2.imread(path+img)\n",
    "    # cv2.imshow('crop',image)\n",
    "    # cv2.waitKey(0)\n",
    "    images.append(image)\n",
    "\n",
    "# cv2.destroyAllWindows()\n",
    "len(images)"
   ]
  },
  {
   "cell_type": "code",
   "execution_count": 4,
   "metadata": {},
   "outputs": [],
   "source": [
    "for img in os.listdir(f'{path}/query/'):\n",
    "    query_img = cv2.imread(f'{path}/query/{img}')\n",
    "    query_img = cv2.cvtColor(query_img, cv2.COLOR_BGR2HSV)\n",
    "    cv2.imshow('q',query_img)\n",
    "    cv2.waitKey(0)\n",
    "    cv2.destroyAllWindows()"
   ]
  },
  {
   "cell_type": "code",
   "execution_count": 5,
   "metadata": {},
   "outputs": [],
   "source": [
    "hist_size=[8,4]"
   ]
  },
  {
   "cell_type": "code",
   "execution_count": 6,
   "metadata": {},
   "outputs": [],
   "source": [
    "# query_img[:,:,2]=0\n",
    "query_hist=cv2.calcHist([query_img],[0,1],None,hist_size,[0,180,0,256])\n",
    "query_hist=query_hist.flatten()\n",
    "query_hist /= query_hist.sum()"
   ]
  },
  {
   "cell_type": "code",
   "execution_count": 7,
   "metadata": {},
   "outputs": [],
   "source": [
    "hhist=[]#np.zeros((len(images),8,4))\n",
    "\n",
    "for i in range(len(images)):\n",
    "    # print(i)\n",
    "    img = np.copy(images[i])\n",
    "    img = cv2.cvtColor(img, cv2.COLOR_BGR2HSV)\n",
    "    # img[:,:,2]=0\n",
    "    hist = cv2.calcHist([img],[0,1],None,hist_size,[0,180,0,256])\n",
    "    hist /=hist.sum()\n",
    "    # print(hist)\n",
    "    # hhist[i]=np.array(hist, dtype=object)\n",
    "    hhist.append(hist.flatten())"
   ]
  },
  {
   "cell_type": "code",
   "execution_count": 8,
   "metadata": {},
   "outputs": [],
   "source": [
    "dd = []\n",
    "for i in range(len(images)):\n",
    "    d = cv2.compareHist(query_hist, hhist[i], cv2.HISTCMP_BHATTACHARYYA) \n",
    "    dd.append(d)"
   ]
  },
  {
   "cell_type": "code",
   "execution_count": 9,
   "metadata": {},
   "outputs": [],
   "source": [
    "from scipy.spatial import distance\n",
    "ee = []\n",
    "\n",
    "#euclidean\n",
    "for i in range(len(images)):\n",
    "    e = distance.euclidean(query_hist, hhist[i])\n",
    "    ee.append(e)\n"
   ]
  },
  {
   "cell_type": "code",
   "execution_count": 13,
   "metadata": {},
   "outputs": [
    {
     "name": "stdout",
     "output_type": "stream",
     "text": [
      "6 - 0.5464692219050691\n",
      "7 - 0.5895815683939126\n",
      "8 - 0.7231856733090943\n",
      "3 - 0.7956959031565003\n",
      "4 - 0.8233643281640691\n",
      "5 - 0.8242915767427949\n",
      "2 - 0.8704685277756514\n",
      "1 - 0.897695931445635\n",
      "0 - 0.943462176146489\n"
     ]
    }
   ],
   "source": [
    "sdd=np.argsort(dd)\n",
    "\n",
    "for i in sdd:\n",
    "    print(f'{i} - {dd[i]}')\n",
    "    cv2.imshow('q',images[i])\n",
    "    cv2.waitKey(0)\n",
    "    cv2.destroyAllWindows()"
   ]
  },
  {
   "cell_type": "code",
   "execution_count": 11,
   "metadata": {},
   "outputs": [
    {
     "name": "stdout",
     "output_type": "stream",
     "text": [
      "6 - 0.6113699674606323\n",
      "8 - 0.6597704291343689\n",
      "7 - 0.6844725012779236\n",
      "2 - 0.7110666632652283\n",
      "4 - 0.7665561437606812\n",
      "3 - 0.7865217924118042\n",
      "5 - 0.8222361207008362\n",
      "0 - 0.9822821617126465\n",
      "1 - 1.0481942892074585\n"
     ]
    }
   ],
   "source": [
    "see=np.argsort(ee)\n",
    "\n",
    "for i in see:\n",
    "    print(f'{i} - {ee[i]}')"
   ]
  },
  {
   "cell_type": "code",
   "execution_count": 12,
   "metadata": {},
   "outputs": [],
   "source": [
    "# cv2.imshow('q',images[1])\n",
    "# cv2.waitKey(0)\n",
    "# cv2.destroyAllWindows()"
   ]
  },
  {
   "cell_type": "markdown",
   "metadata": {},
   "source": [
    "QF"
   ]
  },
  {
   "cell_type": "code",
   "execution_count": 9,
   "metadata": {},
   "outputs": [
    {
     "data": {
      "text/plain": [
       "[11.25, 33.75, 56.25, 78.75, 101.25, 123.75, 146.25, 168.75]"
      ]
     },
     "execution_count": 9,
     "metadata": {},
     "output_type": "execute_result"
    }
   ],
   "source": [
    "h = [22.5*t+11.25 for t in range(8)]\n",
    "h"
   ]
  },
  {
   "cell_type": "code",
   "execution_count": 11,
   "metadata": {},
   "outputs": [
    {
     "data": {
      "text/plain": [
       "[32, 96, 160, 224]"
      ]
     },
     "execution_count": 11,
     "metadata": {},
     "output_type": "execute_result"
    }
   ],
   "source": [
    "s = [64*t+32 for t in range(4)]\n",
    "s"
   ]
  },
  {
   "cell_type": "code",
   "execution_count": 12,
   "metadata": {},
   "outputs": [],
   "source": [
    "hh, ss = np.meshgrid(h, s)"
   ]
  },
  {
   "cell_type": "code",
   "execution_count": 14,
   "metadata": {},
   "outputs": [
    {
     "data": {
      "text/plain": [
       "(array([[ 11.25,  33.75,  56.25,  78.75, 101.25, 123.75, 146.25, 168.75],\n",
       "        [ 11.25,  33.75,  56.25,  78.75, 101.25, 123.75, 146.25, 168.75],\n",
       "        [ 11.25,  33.75,  56.25,  78.75, 101.25, 123.75, 146.25, 168.75],\n",
       "        [ 11.25,  33.75,  56.25,  78.75, 101.25, 123.75, 146.25, 168.75]]),\n",
       " array([[ 32,  32,  32,  32,  32,  32,  32,  32],\n",
       "        [ 96,  96,  96,  96,  96,  96,  96,  96],\n",
       "        [160, 160, 160, 160, 160, 160, 160, 160],\n",
       "        [224, 224, 224, 224, 224, 224, 224, 224]]))"
      ]
     },
     "execution_count": 14,
     "metadata": {},
     "output_type": "execute_result"
    }
   ],
   "source": [
    "hh, ss"
   ]
  },
  {
   "cell_type": "code",
   "execution_count": 15,
   "metadata": {},
   "outputs": [],
   "source": [
    "A = np.zeros((32,32))"
   ]
  },
  {
   "cell_type": "code",
   "execution_count": 37,
   "metadata": {},
   "outputs": [
    {
     "data": {
      "text/plain": [
       "array([[ 11.25,  32.  ],\n",
       "       [ 33.75,  32.  ],\n",
       "       [ 56.25,  32.  ],\n",
       "       [ 78.75,  32.  ],\n",
       "       [101.25,  32.  ],\n",
       "       [123.75,  32.  ],\n",
       "       [146.25,  32.  ],\n",
       "       [168.75,  32.  ],\n",
       "       [ 11.25,  96.  ],\n",
       "       [ 33.75,  96.  ],\n",
       "       [ 56.25,  96.  ],\n",
       "       [ 78.75,  96.  ],\n",
       "       [101.25,  96.  ],\n",
       "       [123.75,  96.  ],\n",
       "       [146.25,  96.  ],\n",
       "       [168.75,  96.  ],\n",
       "       [ 11.25, 160.  ],\n",
       "       [ 33.75, 160.  ],\n",
       "       [ 56.25, 160.  ],\n",
       "       [ 78.75, 160.  ],\n",
       "       [101.25, 160.  ],\n",
       "       [123.75, 160.  ],\n",
       "       [146.25, 160.  ],\n",
       "       [168.75, 160.  ],\n",
       "       [ 11.25, 224.  ],\n",
       "       [ 33.75, 224.  ],\n",
       "       [ 56.25, 224.  ],\n",
       "       [ 78.75, 224.  ],\n",
       "       [101.25, 224.  ],\n",
       "       [123.75, 224.  ],\n",
       "       [146.25, 224.  ],\n",
       "       [168.75, 224.  ]])"
      ]
     },
     "execution_count": 37,
     "metadata": {},
     "output_type": "execute_result"
    }
   ],
   "source": [
    "z = np.array([[i,j] for i,j in zip(hh.flatten(),ss.flatten())])\n",
    "z"
   ]
  },
  {
   "cell_type": "code",
   "execution_count": 41,
   "metadata": {},
   "outputs": [
    {
     "data": {
      "text/plain": [
       "22.5"
      ]
     },
     "execution_count": 41,
     "metadata": {},
     "output_type": "execute_result"
    }
   ],
   "source": [
    "np.sqrt(((z[0]-z[1])**2).sum())"
   ]
  },
  {
   "cell_type": "code",
   "execution_count": 45,
   "metadata": {},
   "outputs": [
    {
     "data": {
      "text/plain": [
       "77.94228634059948"
      ]
     },
     "execution_count": 45,
     "metadata": {},
     "output_type": "execute_result"
    }
   ],
   "source": [
    "np.fromfunction(lambda i, j: np.sqrt(((z[i]-z[j])**2).sum()) , (3, 3), dtype=int)"
   ]
  },
  {
   "cell_type": "code",
   "execution_count": 44,
   "metadata": {},
   "outputs": [
    {
     "data": {
      "text/plain": [
       "array([[0, 1, 2],\n",
       "       [1, 2, 3],\n",
       "       [2, 3, 4]])"
      ]
     },
     "execution_count": 44,
     "metadata": {},
     "output_type": "execute_result"
    }
   ],
   "source": [
    "np.fromfunction(lambda i, j: i + j, (3, 3), dtype=int)"
   ]
  },
  {
   "cell_type": "code",
   "execution_count": 55,
   "metadata": {},
   "outputs": [
    {
     "data": {
      "text/plain": [
       "array([[   1.        ,  -26.70028124,  -12.94374818, ...,  -87.70903282,\n",
       "        -113.43768191,  -86.3064775 ],\n",
       "       [ -26.70028124,    1.        ,  -26.70028124, ..., -106.35323317,\n",
       "         -87.70903282, -113.43768191],\n",
       "       [ -12.94374818,  -26.70028124,    1.        , ..., -100.81753009,\n",
       "        -106.35323317,  -87.70903282],\n",
       "       ...,\n",
       "       [ -87.70903282, -106.35323317, -100.81753009, ...,    1.        ,\n",
       "        -192.90196866,  -96.60623728],\n",
       "       [-113.43768191,  -87.70903282, -106.35323317, ..., -192.90196866,\n",
       "           1.        , -192.90196866],\n",
       "       [ -86.3064775 , -113.43768191,  -87.70903282, ...,  -96.60623728,\n",
       "        -192.90196866,    1.        ]])"
      ]
     },
     "execution_count": 55,
     "metadata": {},
     "output_type": "execute_result"
    }
   ],
   "source": [
    "from scipy.spatial import distance\n",
    "\n",
    "A = distance.cdist(z, z, lambda i, j: 1-(np.sqrt(1/5)*np.sqrt((i[1]*np.cos(i[0])-j[1]*np.cos(j[0]))**2+(i[1]*np.sin(i[0])-j[1]*np.sin(j[0]))**2)))\n",
    "A"
   ]
  },
  {
   "cell_type": "code",
   "execution_count": 62,
   "metadata": {},
   "outputs": [
    {
     "data": {
      "text/plain": [
       "55.24306312135147"
      ]
     },
     "execution_count": 62,
     "metadata": {},
     "output_type": "execute_result"
    }
   ],
   "source": [
    "v = np.dot((query_hist-hhist[1]),A)\n",
    "w = np.dot(v,(query_hist-hhist[1]).T)\n",
    "w"
   ]
  },
  {
   "cell_type": "code",
   "execution_count": 63,
   "metadata": {},
   "outputs": [],
   "source": [
    "qd = []\n",
    "for i in range(len(images)):\n",
    "    v = np.dot((query_hist-hhist[i]),A)\n",
    "    w = np.dot(v,(query_hist-hhist[i]).T)\n",
    "    qd.append(w)"
   ]
  },
  {
   "cell_type": "code",
   "execution_count": 64,
   "metadata": {},
   "outputs": [
    {
     "name": "stdout",
     "output_type": "stream",
     "text": [
      "2 - 31.29600130819564\n",
      "6 - 38.740419840032814\n",
      "3 - 44.78380080596953\n",
      "4 - 46.122812749521174\n",
      "5 - 47.58567431853193\n",
      "0 - 53.98481756289907\n",
      "8 - 54.51593086320051\n",
      "1 - 55.24306312135147\n",
      "7 - 56.07306324189969\n"
     ]
    }
   ],
   "source": [
    "sqf=np.argsort(qd)\n",
    "\n",
    "for i in sqf:\n",
    "    print(f'{i} - {qd[i]}')"
   ]
  },
  {
   "cell_type": "code",
   "execution_count": 66,
   "metadata": {},
   "outputs": [],
   "source": [
    "cv2.imshow('q',images[2])\n",
    "cv2.waitKey(0)\n",
    "cv2.destroyAllWindows()"
   ]
  }
 ],
 "metadata": {
  "interpreter": {
   "hash": "5b0b338c22055c4f0730dd502858cd6e879fb176483496628d5e2d269d727b70"
  },
  "kernelspec": {
   "display_name": "Python 3.10.4 64-bit",
   "language": "python",
   "name": "python3"
  },
  "language_info": {
   "codemirror_mode": {
    "name": "ipython",
    "version": 3
   },
   "file_extension": ".py",
   "mimetype": "text/x-python",
   "name": "python",
   "nbconvert_exporter": "python",
   "pygments_lexer": "ipython3",
   "version": "3.10.4"
  },
  "orig_nbformat": 4
 },
 "nbformat": 4,
 "nbformat_minor": 2
}
